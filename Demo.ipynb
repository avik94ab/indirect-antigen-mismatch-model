{
 "cells": [
  {
   "cell_type": "code",
   "execution_count": 1,
   "id": "e3a551bd",
   "metadata": {},
   "outputs": [],
   "source": [
    "import pandas as pd\n",
    "import math\n",
    "import api"
   ]
  },
  {
   "cell_type": "markdown",
   "id": "56d5e3ac",
   "metadata": {},
   "source": [
    "### Sample protein sequence"
   ]
  },
  {
   "cell_type": "code",
   "execution_count": 2,
   "id": "f0cec3a2",
   "metadata": {},
   "outputs": [],
   "source": [
    "seq = \"TIVIWYHFTQCWTIVIHYNEIPTIHFDYEGQKSSRFTRYNRYNKTETTEVDTKNEIIWYFNTTYGGFIIHPVASVKFTFKQTRLYMYGIRYSKNIWLLIDMWTACRWSEGPMERNDRFYCSMMPLNIMVNNKDTFWDRFVLHPTNFGVLPGDRFRYFTWDIGVARWRSKWLSILKSEWPSGEMHNDQFTQCGGEAVIRIFFDVPNNNILSHHFNPGCIHELTNKAPAHPVNDYQMQPCPAGLWAAQNTNSPYKREPASKGYGSPINSLKEKQLYKPDAIRPFNNHGFHPYTQKYIVRYTHCHEKHFMDMWKFSVDGAPKQQVNISYWLWPGINASKWAYESLWNQYNQHQLAKHARYSFCGKSTRTEMNEPVPRTGMSCEMNRWPYHGRGIADHIRKRWWLHNVFHVPWQERYHLATSSDDGDWHQDHAMVHECPGCPVAFMKRTTAFCCKGPRCTRCTGNMPEFFMFDWSKLTHWDYHPAASPSQAQRYCKMKRIFYHHNFAFRWMRDWFMAYTHMRKIQIGEVFVHCTPEEREYRPGAAIFIEYDNAQDSVGIKMQLFGGEAYGQQYGGLMNPHKKVEPTAMQFGLAGWLNYRTNVEIPHFSSEDYVGIR\""
   ]
  },
  {
   "cell_type": "markdown",
   "id": "be3ce192",
   "metadata": {},
   "source": [
    "### Generate peptides with "
   ]
  },
  {
   "cell_type": "code",
   "execution_count": 3,
   "id": "785507df",
   "metadata": {},
   "outputs": [],
   "source": [
    "'''\n",
    "Generate peptides with specific size and shifts\n",
    "'''\n",
    "def generatePeptides(seq, size = 15, shift = 5):\n",
    "    peptides = []\n",
    "    k = 0\n",
    "    i = 0\n",
    "    while(k<len(seq)-(size-shift)):\n",
    "        if len(seq[i:(k+size)]) == size:\n",
    "            peptides.append(seq[i:(k+size)])\n",
    "        i += shift\n",
    "        k += shift\n",
    "    return peptides"
   ]
  },
  {
   "cell_type": "markdown",
   "id": "3eea2915",
   "metadata": {},
   "source": [
    "### Generate DataFrame \n",
    "        Rows: Peptides\n",
    "        Columns: Alleles\n",
    "        Values: 0->Non-binder, 1->Binder"
   ]
  },
  {
   "cell_type": "code",
   "execution_count": null,
   "id": "a1e20837",
   "metadata": {},
   "outputs": [
    {
     "name": "stdout",
     "output_type": "stream",
     "text": [
      "Querying IDEB for  120  peptides and  7  alleles.....\n"
     ]
    }
   ],
   "source": [
    "peptides = generatePeptides(seq, 15, 5)\n",
    "display(api.NetMHCIIPan4(peptides))"
   ]
  },
  {
   "cell_type": "code",
   "execution_count": null,
   "id": "39a43f2a",
   "metadata": {},
   "outputs": [],
   "source": []
  }
 ],
 "metadata": {
  "kernelspec": {
   "display_name": "Python 3",
   "language": "python",
   "name": "python3"
  },
  "language_info": {
   "codemirror_mode": {
    "name": "ipython",
    "version": 3
   },
   "file_extension": ".py",
   "mimetype": "text/x-python",
   "name": "python",
   "nbconvert_exporter": "python",
   "pygments_lexer": "ipython3",
   "version": "3.8.8"
  }
 },
 "nbformat": 4,
 "nbformat_minor": 5
}
